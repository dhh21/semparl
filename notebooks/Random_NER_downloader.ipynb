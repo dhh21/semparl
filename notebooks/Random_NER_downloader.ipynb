{
  "nbformat": 4,
  "nbformat_minor": 0,
  "metadata": {
    "colab": {
      "name": "Random NER downloader.ipynb",
      "provenance": [],
      "collapsed_sections": []
    },
    "kernelspec": {
      "name": "python3",
      "display_name": "Python 3"
    }
  },
  "cells": [
    {
      "cell_type": "markdown",
      "metadata": {
        "id": "6gB-KYbbVuYi"
      },
      "source": [
        "Querying random speeches for NER evaluation \n"
      ]
    },
    {
      "cell_type": "markdown",
      "metadata": {
        "id": "WtBLSIhvSAsx"
      },
      "source": [
        "*Install* the dependencies:"
      ]
    },
    {
      "cell_type": "code",
      "metadata": {
        "id": "LiZOwrdSKr9u"
      },
      "source": [
        "!pip install SPARQLWrapper numpy scipy matplotlib pandas networkx\n",
        "%matplotlib inline\n",
        "\n",
        "from datetime import datetime\n",
        "from dateutil.relativedelta import relativedelta\n",
        "\n",
        "import matplotlib.pyplot as plt\n",
        "import numpy    as np\n",
        "import networkx as nx\n",
        "import pandas   as pd\n",
        "\n",
        "from collections import Counter, OrderedDict\n",
        "from rdflib.namespace import XSD\n",
        "from scipy.stats import binned_statistic\n",
        "from scipy.interpolate import interp1d\n",
        "from SPARQLWrapper import SPARQLWrapper, JSON, POST\n",
        "from IPython.display import display, HTML"
      ],
      "execution_count": null,
      "outputs": []
    },
    {
      "cell_type": "markdown",
      "metadata": {
        "id": "0sVZRPATx2OR"
      },
      "source": [
        "Define some useful functions for data conversion"
      ]
    },
    {
      "cell_type": "code",
      "metadata": {
        "id": "wqqYM6OM0M-p"
      },
      "source": [
        "from rdflib.namespace import XSD\n",
        "import pandas as pd \n",
        "\n",
        "DATATYPECONVERTERS = {\n",
        "      str(XSD.integer):  int,\n",
        "      str(XSD.decimal):  float,\n",
        "      str(XSD.date):     lambda v: datetime.strptime(v, '%Y-%m-%d').date()\n",
        "  }\n",
        "\n",
        "def convertDatatype(obj):\n",
        "  return DATATYPECONVERTERS.get(obj.get('datatype'), str)(obj.get('value')) \n",
        "\n",
        "def JSON2Pandas(results):\n",
        "    res = results[\"results\"][\"bindings\"]\n",
        "    data = [dict([(k, convertDatatype(v)) for k,v in r.items()]) for r in res]\n",
        "    return pd.DataFrame(data)"
      ],
      "execution_count": null,
      "outputs": []
    },
    {
      "cell_type": "code",
      "metadata": {
        "id": "qf_dJ_9UuRbi"
      },
      "source": [
        "import  getpass\n",
        "authorization = getpass.getpass('Password:') \n",
        "\n",
        "final_results = []\n",
        "sparql3 = SPARQLWrapper(\"http://ldf.fi/semparl/sparql\")\n",
        "\n",
        "query=\"\"\"\n",
        "  PREFIX xsd: <http://www.w3.org/2001/XMLSchema#>\n",
        "  PREFIX sem: <http://semanticweb.cs.vu.nl/2009/11/sem/>\n",
        "  PREFIX rdf: <http://www.w3.org/1999/02/22-rdf-syntax-ns#>\n",
        "  PREFIX dct: <http://purl.org/dc/terms/>\n",
        "  PREFIX skos: <http://www.w3.org/2004/02/skos/core#>\n",
        "  PREFIX text: <http://jena.apache.org/text#>\n",
        "  PREFIX : <http://ldf.fi/schema/semparl/>\n",
        "  prefix linguistics: <http://ldf.fi/schema/semparl/linguistics/>\n",
        "\n",
        "SELECT ?date ?speech ?content ?namedEntity ?surfaceForm ?category  {\n",
        "{ SELECT ?date ?speech ?content {\n",
        "\t?speech \n",
        "     \t:content ?content;\n",
        "  \t\tdct:date ?date .\n",
        "FILTER(?date > \"XXXX-01-01\"^^xsd:date && ?date <= \"XXXX-12-31\"^^xsd:date)\n",
        "FILTER NOT EXISTS { ?speech :speechType <http://ldf.fi/semparl/PuhemiesPuheenvuoro> }\n",
        "BIND(SHA512(CONCAT(STR(RAND()), STR(?speech))) AS ?random) . # https://stackoverflow.com/questions/5677340/how-to-select-random-dbpedia-nodes-from-sparql\n",
        "}\n",
        "    ORDER BY ?random \n",
        "\tLIMIT 200\n",
        "}\n",
        "OPTIONAL{?speech linguistics:referencedNamedEntity ?entity .\n",
        "  \t?entity\n",
        "    \tskos:prefLabel ?namedEntity ;\n",
        "    \tlinguistics:surfaceForm ?surfaceForm ;\n",
        "     \tlinguistics:category ?category .\n",
        "  }\n",
        "}\n",
        "\"\"\"\n",
        "\n",
        "for year in range(1985, 1996):\n",
        "  sparql3.setQuery(query.replace('XXXX', str(year)))\n",
        "\n",
        "  sparql3.setReturnFormat(JSON)\n",
        "  sparql3.addCustomHttpHeader(\"Authorization\", authorization)\n",
        "  results = sparql3.query().convert()\n",
        "  link_data = JSON2Pandas(results)\n",
        "  final_results.append(link_data)\n",
        "\n",
        "\n",
        "all_years=pd.concat(final_results)\n",
        "all_years.insert(5, 'recognition was true positive', '')\n",
        "all_years[\"category was right\"] = \"\"\n",
        "all_years[\"not recognised by NER\"] = \"\"\n",
        "display(all_years)\n",
        "\n",
        "\n"
      ],
      "execution_count": null,
      "outputs": []
    },
    {
      "cell_type": "code",
      "metadata": {
        "id": "UDK1UzXN_N9p"
      },
      "source": [
        "from google.colab import files\n",
        "\n",
        "all_years.to_csv('NER_evaluation_years.csv', index=False)\n",
        "files.download('NER_evaluation_years.csv')"
      ],
      "execution_count": null,
      "outputs": []
    }
  ]
}